{
 "cells": [
  {
   "cell_type": "markdown",
   "id": "2d606cdf",
   "metadata": {},
   "source": [
    "# CS440/ECE448 Spring 2024\n",
    "# MP04: Perceptron\n",
    "\n",
    "The perceptron model is a linear function that tries to separate data into two or more classes. It does this by learning a set of weight coefficients $w_i$ and then adding a bias $b$\n",
    ". Suppose you have features $x_1, \\cdots ,x_n$ then this can be expressed in the following fashion:\n",
    "$$f_{w,b} (x) = \\sum_{i=1}^n w_i x_i + b$$\n",
    "You will use the perceptron learning algorithm to find good weight parameters $w_i$\n",
    " and $b$ such that $sign(f_{w,b(x)})>0$ when there is an animal in the image and $sign(f_{w,b}(x)) \\leq 0$ when there is a no animal in the image.\n",
    " \n",
    " Your function classifyPerceptron() will take as input the training data, training labels, development data, learning rate, and maximum number of iterations. It should return a list of labels for the development data. And you are supposed to tune the learning rate inside trainPerceptron function.\n",
    "\n",
    " # Training and Development\n",
    "\n",
    " Please see the textbook and lecture notes for the perceptron algorithm. You will be using a single classical perceptron whose output is either positive or negative (i.e. sign/step activation function).\n",
    "\n",
    "You may use NumPy to program your solution. Aside from that library, no other outside non-standard libraries can be used (PyTorch is NOT allowed for MP4).\n",
    "\n",
    "The autograder will supply the set of test images as one giant numpy array. The development data is in the same format. So your code must read the dimensions from the input numpy array.\n",
    "\n",
    "In the dataset, each image is $32*32$ and has three (RGB) color channels, yielding $32*32*3 = 3072$ features. However, be aware that synthetic tests in the autograder may have different dimensions. So do not hardcode the dimensions.\n",
    "\n",
    "<ul>\n",
    "<li >Training: To train the perceptron you are going to need to implement the perceptron learning algorithm on the training set. Each pixel of the image is a feature in this case. Be sure to initialize weights and biases to zero.\n",
    "Note: To get full points on the autograder, use a constant learning rate (no decay) and do not shuffle the training data\n",
    "\n",
    "<li>Development: After you have trained your perceptron classifier, you will have your model decide whether or not each image in the development set contains animals. In order to do this take the sign of the function $f_{w,b}(x)$. If it is negative or zero then classify as 0. If it is positive then classify as 1.\n",
    "\n",
    "</ul>\n",
    "\n",
    "Use only the training set to learn the weights.\n",
    "\n",
    "If designed correctly, the perceptron model should give you accuracy of around 0.78 to 0.80 on development set.\n",
    "\n",
    "# Some comments on Using Numpy\n",
    "\n",
    "For this mp, you are allowed to use only the NumPy. Note that it is much easier to write fast code by using numpy operations. Your data is provided as a numpy array. Use numpy operations as much as possible, until right at the end when you choose a label for each image and produce the output list of labels.\n",
    "\n",
    "NumPy Tips:\n",
    "\n",
    "<ul>\n",
    "\n",
    "<li>Running computations on arrays tend to be faster when run using NumPy arrays. If you are having issues with timing out, then consider using a NumPy implementation\n",
    "\n",
    "<li>Linear algebra operators (dot product, vector norm, matrix multiplication) are immensely simplified when using NumPy. Consider looking up methods to perform some of these operations if they are needed in your solution.\n",
    "\n",
    "<li> NumPy Broadcasting may make your life easier for this assignment.\n",
    "\n",
    "</ul>\n",
    "\n",
    "# Provided Code Skeleton\n",
    "\n",
    "<ul>\n",
    "\n",
    "<li>reader.py - This file is responsible for reading in the data set. It creates a giant NumPy array of feature vectors corresponding to each image.\n",
    "\n",
    "<li>mp4.py - This is the main file that starts the program of mp4, and computes the accuracy, precision, recall, and F1-score using your implementation of mp4.\n",
    "\n",
    "<li>perceptron.py is file where you will be doing all of your work for mp4. \n",
    "\n",
    "<li>mp4_data is the file of data set.\n",
    "\n",
    "</ul>\n",
    "\n",
    "# The only file you will need to modify is perceptron.py\n",
    "\n",
    "To run the mp4:"
   ]
  },
  {
   "cell_type": "code",
   "execution_count": 84,
   "id": "dd58397e",
   "metadata": {},
   "outputs": [
    {
     "name": "stdout",
     "output_type": "stream",
     "text": [
      "Testing your perceptron model on linearly separable data\n",
      "Accuracy: 1.0\n",
      "F1-Score: 1.0\n",
      "Precision: 1.0\n",
      "Recall: 1.0\n",
      "Test passed!\n",
      "Your accuracy: 1.00.\n",
      "Testing your perceptron model on the actual data\n",
      "Perceptron\n",
      "Accuracy: 0.8016\n",
      "F1-Score: 0.8462492250464972\n",
      "Precision: 0.7867435158501441\n",
      "Recall: 0.9154929577464789\n",
      "A correct implementation of perceptron should achieve accuracy of around 0.78 to 0.80 on dev. data.\n",
      "Time taken for perceptron to execute training and classification: 0.6009018421173096\n",
      "Time taken for our model implementation is approximately 1.8\n"
     ]
    }
   ],
   "source": [
    "! python mp4.py"
   ]
  },
  {
   "cell_type": "markdown",
   "id": "63845151",
   "metadata": {},
   "source": [
    "# Deliverables\n",
    "MP4 will be submitted via Gradescope; please upload perceptron.py."
   ]
  }
 ],
 "metadata": {
  "kernelspec": {
   "display_name": "Python 3 (ipykernel)",
   "language": "python",
   "name": "python3"
  },
  "language_info": {
   "codemirror_mode": {
    "name": "ipython",
    "version": 3
   },
   "file_extension": ".py",
   "mimetype": "text/x-python",
   "name": "python",
   "nbconvert_exporter": "python",
   "pygments_lexer": "ipython3",
   "version": "3.10.11"
  }
 },
 "nbformat": 4,
 "nbformat_minor": 5
}
